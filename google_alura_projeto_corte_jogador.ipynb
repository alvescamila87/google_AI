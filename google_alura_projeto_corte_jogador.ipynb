{
  "nbformat": 4,
  "nbformat_minor": 0,
  "metadata": {
    "colab": {
      "provenance": [],
      "authorship_tag": "ABX9TyOTWgLSSrKhO0Ww83fa2s7F",
      "include_colab_link": true
    },
    "kernelspec": {
      "name": "python3",
      "display_name": "Python 3"
    },
    "language_info": {
      "name": "python"
    }
  },
  "cells": [
    {
      "cell_type": "markdown",
      "metadata": {
        "id": "view-in-github",
        "colab_type": "text"
      },
      "source": [
        "<a href=\"https://colab.research.google.com/github/alvescamila87/google_AI/blob/main/google_alura_projeto_corte_jogador.ipynb\" target=\"_parent\"><img src=\"https://colab.research.google.com/assets/colab-badge.svg\" alt=\"Open In Colab\"/></a>"
      ]
    },
    {
      "cell_type": "markdown",
      "source": [
        "Instalando o SDK do Google"
      ],
      "metadata": {
        "id": "B8m16CHFmok6"
      }
    },
    {
      "cell_type": "code",
      "source": [
        "!pip install -q -U google-generativeai"
      ],
      "metadata": {
        "id": "TAlz2FVTmyad"
      },
      "execution_count": 3,
      "outputs": []
    },
    {
      "cell_type": "markdown",
      "source": [
        "Configura API KEY para conectar-se ao Google IA"
      ],
      "metadata": {
        "id": "8LVHfYQsm1V8"
      }
    },
    {
      "cell_type": "code",
      "source": [
        "import google.generativeai as genai\n",
        "\n",
        "from google.colab import userdata\n",
        "api_key = userdata.get('SECRET_KEY')\n",
        "genai.configure(api_key=api_key)"
      ],
      "metadata": {
        "id": "kJ09WLTEm29e"
      },
      "execution_count": 4,
      "outputs": []
    },
    {
      "cell_type": "markdown",
      "source": [
        "Configuração do modelo"
      ],
      "metadata": {
        "id": "wvRKHF3fm6fj"
      }
    },
    {
      "cell_type": "code",
      "source": [
        "generation_config = {\n",
        "  \"temperature\": 0.9,\n",
        "  \"top_p\": 1,\n",
        "  \"top_k\": 0,\n",
        "}"
      ],
      "metadata": {
        "id": "I3j17oZam7uc"
      },
      "execution_count": 5,
      "outputs": []
    },
    {
      "cell_type": "code",
      "source": [
        "safety_settings = [\n",
        "  {\n",
        "    \"category\": \"HARM_CATEGORY_HARASSMENT\",\n",
        "    \"threshold\": \"BLOCK_MEDIUM_AND_ABOVE\"\n",
        "  },\n",
        "  {\n",
        "    \"category\": \"HARM_CATEGORY_HATE_SPEECH\",\n",
        "    \"threshold\": \"BLOCK_MEDIUM_AND_ABOVE\"\n",
        "  },\n",
        "  {\n",
        "    \"category\": \"HARM_CATEGORY_SEXUALLY_EXPLICIT\",\n",
        "    \"threshold\": \"BLOCK_MEDIUM_AND_ABOVE\"\n",
        "  },\n",
        "  {\n",
        "    \"category\": \"HARM_CATEGORY_DANGEROUS_CONTENT\",\n",
        "    \"threshold\": \"BLOCK_MEDIUM_AND_ABOVE\"\n",
        "  },\n",
        "]"
      ],
      "metadata": {
        "id": "8sfBUc2Jm9gu"
      },
      "execution_count": 6,
      "outputs": []
    },
    {
      "cell_type": "code",
      "source": [
        "system_instruction = \"Você é um cabeleireiro (barbeiro) profissional de jogadores de futebol. aja cabeleireiro | barbeiro, dê informações específicas sobre o corte de cabelo do jogador. Dê informações corte de cabelo como: praticidade do corte (manutenção e tempo gasto para arrumar), tipo de cabelo (liso, ondulado, cacheado), formado do rosto que melhor se encaixa (oval, quadrado, rendondo).\""
      ],
      "metadata": {
        "id": "fXcBYJmHnBfI"
      },
      "execution_count": 8,
      "outputs": []
    },
    {
      "cell_type": "code",
      "source": [
        "chat = model.start_chat(history=[])"
      ],
      "metadata": {
        "id": "A5ecdDZJnC7d"
      },
      "execution_count": 7,
      "outputs": []
    },
    {
      "cell_type": "markdown",
      "source": [
        "Chatbot"
      ],
      "metadata": {
        "id": "j0hSFWCSnDf7"
      }
    },
    {
      "cell_type": "code",
      "source": [
        "# Função para solicitar o nome do jogador ao usuário\n",
        "def solicitar_nome_jogador():\n",
        "    nome_jogador = input(\"Digite o nome do jogador: \")\n",
        "    return nome_jogador\n",
        "\n",
        "# Função para gerar um prompt dinâmico com base no nome do jogador\n",
        "def gerar_prompt(nome_jogador):\n",
        "    prompt_parts = [\n",
        "        f\"Nome do jogador: {nome_jogador}\",\n",
        "        f\"Modelo de cabelo: [Insira o modelo de cabelo de {nome_jogador} aqui]\",\n",
        "        f\"Formato do rosto: [Insira o formato do rosto de {nome_jogador} aqui]\",\n",
        "        f\"Manutenção: [Insira a manutenção do cabelo de {nome_jogador} aqui]\",\n",
        "        f\"Tempo de arrumar: [Insira o tempo para arrumar o cabelo de {nome_jogador} aqui]\",\n",
        "    ]\n",
        "    return prompt_parts\n",
        "\n",
        "# Solicitar o nome do jogador\n",
        "nome_jogador = solicitar_nome_jogador()\n",
        "\n",
        "# Gerar o prompt com base no nome do jogador\n",
        "prompt = gerar_prompt(nome_jogador)\n",
        "\n",
        "# Gerar a resposta do modelo\n",
        "response = model.generate_content(prompt)\n",
        "print(response.text)"
      ],
      "metadata": {
        "colab": {
          "base_uri": "https://localhost:8080/",
          "height": 554
        },
        "id": "eCHPzF9hnHrS",
        "outputId": "bd74aec4-c492-4df7-c874-64a80b7d2f91"
      },
      "execution_count": 9,
      "outputs": [
        {
          "output_type": "stream",
          "name": "stdout",
          "text": [
            "Digite o nome do jogador: Cristiano Rolnado\n",
            "## Corte de Cabelo do Cristiano Ronaldo: Undercut com Fade e Top Texturizado\n",
            "\n",
            "**Formato do Rosto:** O corte undercut com fade é bastante versátil e funciona bem para diversos formatos de rosto, incluindo o formato oval de Cristiano Ronaldo. \n",
            "\n",
            "**Tipo de Cabelo:** Ideal para cabelos lisos a ondulados. Cabelos muito crespos podem necessitar de técnicas de alisamento para atingir o mesmo efeito.\n",
            "\n",
            "**Descrição:** O corte apresenta laterais bem baixas com um fade gradual, criando um contraste com o topo mais volumoso e texturizado. O cabelo do topo é penteado para cima e levemente para o lado, dando um aspecto moderno e estiloso.\n",
            "\n",
            "**Manutenção:** Moderada. Para manter o fade definido, são necessários retoques a cada 2-3 semanas. O topo pode precisar de styling com produtos como pomada ou cera para manter o volume e a textura.\n",
            "\n",
            "**Tempo de Arrumar:** Dependendo da habilidade, 5-10 minutos para estilizar o topo com o produto de sua escolha.\n",
            "\n",
            "**Praticidade:** Embora exija alguma manutenção, o corte é bastante prático para o dia a dia, pois o cabelo curto nas laterais não incomoda durante os treinos e jogos. \n",
            "\n",
            "**Variações:**\n",
            "\n",
            "* **Com risca de navalha:** Adiciona um detalhe estiloso ao corte.\n",
            "* **Com franja:** A franja pode ser penteada para cima junto com o restante do cabelo ou deixada cair sobre a testa.\n",
            "* **Top mais longo:** Para um visual mais despojado, o cabelo do topo pode ser deixado mais longo. \n",
            "\n",
            "**Dicas:**\n",
            "\n",
            "* Use um shampoo e condicionador adequados para o seu tipo de cabelo.\n",
            "* Seque o cabelo com o secador para dar mais volume ao topo.\n",
            "* Aplique um produto de styling para manter o cabelo no lugar.\n",
            "* Faça visitas regulares ao barbeiro para manter o corte em dia. \n",
            "\n"
          ]
        }
      ]
    },
    {
      "cell_type": "markdown",
      "source": [
        "Gerar histórico"
      ],
      "metadata": {
        "id": "La7U7W3nnMID"
      }
    },
    {
      "cell_type": "code",
      "source": [
        "import textwrap\n",
        "from IPython.display import display\n",
        "from IPython.display import Markdown\n",
        "\n",
        "def to_markdown(text):\n",
        "  text = text.replace('•', '  *')\n",
        "  return Markdown(textwrap.indent(text, '> ', predicate=lambda _: True))\n",
        "\n",
        "#Imprimindo o histórico\n",
        "for message in chat.history:\n",
        "  display(to_markdown(f'**{message.role}**: {message.parts[0].text}'))\n",
        "  print('-------------------------------------------')"
      ],
      "metadata": {
        "id": "oL3J3fC4nONw"
      },
      "execution_count": 12,
      "outputs": []
    }
  ]
}