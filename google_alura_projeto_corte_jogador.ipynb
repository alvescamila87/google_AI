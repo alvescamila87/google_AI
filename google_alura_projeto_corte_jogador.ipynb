{
  "nbformat": 4,
  "nbformat_minor": 0,
  "metadata": {
    "colab": {
      "provenance": [],
      "authorship_tag": "ABX9TyPLMuU/ImENavNt026nkNuT",
      "include_colab_link": true
    },
    "kernelspec": {
      "name": "python3",
      "display_name": "Python 3"
    },
    "language_info": {
      "name": "python"
    }
  },
  "cells": [
    {
      "cell_type": "markdown",
      "metadata": {
        "id": "view-in-github",
        "colab_type": "text"
      },
      "source": [
        "<a href=\"https://colab.research.google.com/github/alvescamila87/google_AI/blob/main/google_alura_projeto_corte_jogador.ipynb\" target=\"_parent\"><img src=\"https://colab.research.google.com/assets/colab-badge.svg\" alt=\"Open In Colab\"/></a>"
      ]
    },
    {
      "cell_type": "code",
      "execution_count": null,
      "metadata": {
        "id": "k-Kl6JpjlCtJ"
      },
      "outputs": [],
      "source": [
        "!pip install -q -U google-generativeai\n",
        "\n",
        "\n",
        "import google.generativeai as genai\n",
        "\n",
        "from google.colab import userdata\n",
        "api_key = userdata.get('SECRET_KEY')\n",
        "genai.configure(api_key=api_key)\n",
        "\n",
        "\n",
        "generation_config = {\n",
        "  \"temperature\": 0.9,\n",
        "  \"top_p\": 1,\n",
        "  \"top_k\": 0,\n",
        "}\n",
        "\n",
        "safety_settings = {\n",
        "    \"HARASSMENT\": \"BLOCK_NONE\",\n",
        "    \"HATE\": \"BLOCK_NONE\",\n",
        "    \"SEXUAL\": \"BLOCK_NONE\",\n",
        "    \"DANGEROUS\": \"BLOCK_NONE\"\n",
        "}\n",
        "\n",
        "system_instruction = \"Você é um cabeleireiro (barbeiro) profissional de jogadores de futebol. aja cabeleireiro | barbeiro, dê informações específicas sobre o corte de cabelo do jogador. Dê informações corte de cabelo como: praticidade do corte (manutenção e tempo gasto para arrumar), tipo de cabelo (liso, ondulado, cacheado), formado do rosto que melhor se encaixa (oval, quadrado, rendondo).\"\n",
        "\n",
        "model = genai.GenerativeModel(model_name=\"models/gemini-1.0-pro\",\n",
        "                              generation_config=generation_config,\n",
        "                              safety_settings=safety_settings,\n",
        "                              system_instruction=system_instruction)\n",
        "\n",
        "chat = model.start_chat(history=[])\n",
        "\n",
        "# Função para solicitar o nome do jogador ao usuário\n",
        "def solicitar_nome_jogador():\n",
        "    nome_jogador = input(\"Digite o nome do jogador: \")\n",
        "    return nome_jogador\n",
        "\n",
        "# Função para gerar um prompt dinâmico com base no nome do jogador\n",
        "def gerar_prompt(nome_jogador):\n",
        "    prompt_parts = [\n",
        "        f\"Nome do jogador: {nome_jogador}\",\n",
        "        f\"Modelo de cabelo: [Insira o modelo de cabelo de {nome_jogador} aqui]\",\n",
        "        f\"Formato do rosto: [Insira o formato do rosto de {nome_jogador} aqui]\",\n",
        "        f\"Manutenção: [Insira a manutenção do cabelo de {nome_jogador} aqui]\",\n",
        "        f\"Tempo de arrumar: [Insira o tempo para arrumar o cabelo de {nome_jogador} aqui]\",\n",
        "    ]\n",
        "    return prompt_parts\n",
        "\n",
        "# Solicitar o nome do jogador\n",
        "nome_jogador = solicitar_nome_jogador()\n",
        "\n",
        "# Gerar o prompt com base no nome do jogador\n",
        "prompt = gerar_prompt(nome_jogador)\n",
        "\n",
        "# Gerar a resposta do modelo\n",
        "response = model.generate_content(prompt)\n",
        "print(response.text)\n"
      ]
    },
    {
      "cell_type": "markdown",
      "source": [],
      "metadata": {
        "id": "W51-ZM8ElKdA"
      }
    }
  ]
}