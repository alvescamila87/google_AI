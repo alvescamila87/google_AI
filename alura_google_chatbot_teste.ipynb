{
  "nbformat": 4,
  "nbformat_minor": 0,
  "metadata": {
    "colab": {
      "provenance": [],
      "authorship_tag": "ABX9TyOrC1SqxRo2sX6xOJm6MNal",
      "include_colab_link": true
    },
    "kernelspec": {
      "name": "python3",
      "display_name": "Python 3"
    },
    "language_info": {
      "name": "python"
    }
  },
  "cells": [
    {
      "cell_type": "markdown",
      "metadata": {
        "id": "view-in-github",
        "colab_type": "text"
      },
      "source": [
        "<a href=\"https://colab.research.google.com/github/alvescamila87/google_AI/blob/main/alura_google_chatbot_teste.ipynb\" target=\"_parent\"><img src=\"https://colab.research.google.com/assets/colab-badge.svg\" alt=\"Open In Colab\"/></a>"
      ]
    },
    {
      "cell_type": "markdown",
      "source": [
        "Instalando o SDK do Google"
      ],
      "metadata": {
        "id": "SQ3c4dX56Vz5"
      }
    },
    {
      "cell_type": "code",
      "source": [
        "!pip install -q -U google-generativeai"
      ],
      "metadata": {
        "id": "moloCfsO6ayI"
      },
      "execution_count": null,
      "outputs": []
    },
    {
      "cell_type": "markdown",
      "source": [
        "Configura API KEY para conectar-se ao Google IA"
      ],
      "metadata": {
        "id": "0Vl8biTi9VGv"
      }
    },
    {
      "cell_type": "code",
      "source": [
        "import google.generativeai as genai\n",
        "\n",
        "from google.colab import userdata\n",
        "api_key = userdata.get('SECRET_KEY')\n",
        "genai.configure(api_key=api_key)"
      ],
      "metadata": {
        "id": "WBTfGkpt6taY"
      },
      "execution_count": 26,
      "outputs": []
    },
    {
      "cell_type": "markdown",
      "source": [
        "Lista os modelos disponíveis"
      ],
      "metadata": {
        "id": "2_QrIUi6610F"
      }
    },
    {
      "cell_type": "code",
      "source": [
        "for modelo in genai.list_models():\n",
        "  if 'generateContent' in modelo.supported_generation_methods:\n",
        "    print(modelo.name)"
      ],
      "metadata": {
        "colab": {
          "base_uri": "https://localhost:8080/",
          "height": 146
        },
        "id": "2by0R0t86_8k",
        "outputId": "5a885129-04e8-42fe-c35f-7f1cf6e90883"
      },
      "execution_count": null,
      "outputs": [
        {
          "output_type": "stream",
          "name": "stdout",
          "text": [
            "models/gemini-1.0-pro\n",
            "models/gemini-1.0-pro-001\n",
            "models/gemini-1.0-pro-latest\n",
            "models/gemini-1.0-pro-vision-latest\n",
            "models/gemini-1.5-pro-latest\n",
            "models/gemini-pro\n",
            "models/gemini-pro-vision\n"
          ]
        }
      ]
    },
    {
      "cell_type": "markdown",
      "source": [
        "Configurações de execução do modelo"
      ],
      "metadata": {
        "id": "9UHNB_c28pls"
      }
    },
    {
      "cell_type": "code",
      "source": [
        "generation_config = {\n",
        "    \"candidate_count\": 1,\n",
        "    \"temperature\": 0.5\n",
        "}"
      ],
      "metadata": {
        "id": "T6eWYvEJ8Q8V"
      },
      "execution_count": null,
      "outputs": []
    },
    {
      "cell_type": "markdown",
      "source": [
        "Configurações de segurança do modelo"
      ],
      "metadata": {
        "id": "b5N64-lZ8wIy"
      }
    },
    {
      "cell_type": "code",
      "source": [
        "safety_settings = {\n",
        "    \"HARASSMENT\": \"BLOCK_NONE\",\n",
        "    \"HATE\": \"BLOCK_NONE\",\n",
        "    \"SEXUAL\": \"BLOCK_NONE\",\n",
        "    \"DANGEROUS\": \"BLOCK_NONE\"\n",
        "}"
      ],
      "metadata": {
        "id": "IhrGOS1e8lAd"
      },
      "execution_count": null,
      "outputs": []
    },
    {
      "cell_type": "markdown",
      "source": [
        "Inicializando o modelo com a versão modelo de IA Google"
      ],
      "metadata": {
        "id": "yWMfYc669eHi"
      }
    },
    {
      "cell_type": "code",
      "source": [
        "model = genai.GenerativeModel(model_name=\"models/gemini-1.0-pro\",\n",
        "                              generation_config=generation_config,\n",
        "                              safety_settings=safety_settings)"
      ],
      "metadata": {
        "id": "sSGk2t4h9fmJ"
      },
      "execution_count": null,
      "outputs": []
    },
    {
      "cell_type": "markdown",
      "source": [
        "Gera conteúdo"
      ],
      "metadata": {
        "id": "jrvS3ut0-zfH"
      }
    },
    {
      "cell_type": "code",
      "source": [
        "response = model.generate_content(\"Vamos aprender conteúdo sobre IA. Me dê sugestões.\")\n",
        "print(response.text)"
      ],
      "metadata": {
        "colab": {
          "base_uri": "https://localhost:8080/",
          "height": 738
        },
        "id": "gqLmpWQS-2_d",
        "outputId": "f1121911-6268-4b81-9628-3ec3eba0e512"
      },
      "execution_count": null,
      "outputs": [
        {
          "output_type": "stream",
          "name": "stdout",
          "text": [
            "**Recursos Online**\n",
            "\n",
            "* **Coursera:** Cursos de IA da Universidade de Stanford, Universidade da Califórnia em Berkeley e outros\n",
            "* **edX:** Cursos de IA do MIT, Harvard e outras universidades\n",
            "* **Udemy:** Cursos de IA para iniciantes e avançados\n",
            "* **Khan Academy:** Tutoriais e exercícios de IA\n",
            "* **Google AI Education:** Recursos e cursos para aprender sobre IA\n",
            "\n",
            "**Livros**\n",
            "\n",
            "* **Inteligência Artificial: Uma Abordagem Moderna** por Stuart Russell e Peter Norvig\n",
            "* **Aprendizado de Máquina** por Ethem Alpaydin\n",
            "* **Aprendizado Profundo** por Ian Goodfellow, Yoshua Bengio e Aaron Courville\n",
            "* **IA para Todos** por Andrew Ng e Ernest Davis\n",
            "* **IA: Um Guia Moderno** por Geoffrey Hinton, Yoshua Bengio e Yann LeCun\n",
            "\n",
            "**Vídeos e Documentários**\n",
            "\n",
            "* **Canal do YouTube do Google AI:** Vídeos sobre tópicos de IA, como aprendizado de máquina e visão computacional\n",
            "* **Ted Talks sobre IA:** Palestras inspiradoras de especialistas em IA\n",
            "* **Documentário \"AlphaGo\":** A história da partida de Go entre o campeão humano e a IA AlphaGo\n",
            "* **Documentário \"Ex Machina\":** Um exame exploratório da natureza da consciência e da IA\n",
            "\n",
            "**Podcasts**\n",
            "\n",
            "* **O Podcast de IA** por Lex Fridman\n",
            "* **AI Weekly** por Kai-Fu Lee\n",
            "* **Machine Learning Podcast** por Sam Charrington\n",
            "* **Data Skeptic** por Kyle Polich\n",
            "* **AI in Business** por Rob High\n",
            "\n",
            "**Comunidades e Fóruns**\n",
            "\n",
            "* **Reddit: r/artificialintelligence**\n",
            "* **Stack Overflow: Tag de Inteligência Artificial**\n",
            "* **Kaggle:** Comunidade de cientistas de dados e especialistas em IA\n",
            "* **Meetup:** Grupos locais de IA para networking e aprendizado\n",
            "* **Conferências de IA:** Eventos como NeurIPS, ICML e CVPR para se conectar com especialistas e aprender sobre as últimas pesquisas\n"
          ]
        }
      ]
    },
    {
      "cell_type": "markdown",
      "source": [
        "Criar chatbot que guarda histórico de conversa para considerar os contextos do prompt"
      ],
      "metadata": {
        "id": "ujUc6Nk9_N29"
      }
    },
    {
      "cell_type": "code",
      "source": [
        "chat = model.start_chat(history=[])"
      ],
      "metadata": {
        "id": "VuxYKI4h_LRb"
      },
      "execution_count": null,
      "outputs": []
    },
    {
      "cell_type": "markdown",
      "source": [
        "Criando o prompt (chat)"
      ],
      "metadata": {
        "id": "oSWJ_4ZwBWv3"
      }
    },
    {
      "cell_type": "code",
      "source": [
        "prompt = input(\"Digite algo no prompt ou 'fim' para parar: \")\n",
        "\n",
        "while prompt != \"fim\":\n",
        "  response = chat.send_message(prompt)\n",
        "  print(\"Resposta: \", response.text, \"\\n\")\n",
        "  prompt = input(\"Digite algo no prompt ou 'fim' para parar: \")"
      ],
      "metadata": {
        "colab": {
          "base_uri": "https://localhost:8080/"
        },
        "id": "vyUjhUI1_g0X",
        "outputId": "90037730-86b9-4e18-b5bd-26fe071c0d13"
      },
      "execution_count": null,
      "outputs": [
        {
          "name": "stdout",
          "output_type": "stream",
          "text": [
            "Digite algo no prompt ou 'fim' para parar: fim\n"
          ]
        }
      ]
    },
    {
      "cell_type": "markdown",
      "source": [
        "Visualizar o histórico do chatbot (prompt)"
      ],
      "metadata": {
        "id": "h9Hd4uEQBrW8"
      }
    },
    {
      "cell_type": "code",
      "source": [
        "chat.history"
      ],
      "metadata": {
        "colab": {
          "base_uri": "https://localhost:8080/"
        },
        "id": "GC8vs4l0BmvU",
        "outputId": "c1d33530-7fe4-4cab-80d7-7e353508898e"
      },
      "execution_count": null,
      "outputs": [
        {
          "output_type": "execute_result",
          "data": {
            "text/plain": [
              "[parts {\n",
              "   text: \"Qual \\303\\251 a capital do Jap\\303\\243o?\"\n",
              " }\n",
              " role: \"user\",\n",
              " parts {\n",
              "   text: \"T\\303\\263quio\"\n",
              " }\n",
              " role: \"model\",\n",
              " parts {\n",
              "   text: \"Qual a comida t\\303\\255pica desse pa\\303\\255s?\"\n",
              " }\n",
              " role: \"user\",\n",
              " parts {\n",
              "   text: \"Sushi\"\n",
              " }\n",
              " role: \"model\",\n",
              " parts {\n",
              "   text: \"O meu primo nasceu nessa cidade. Qual a nacionalidade dele?\"\n",
              " }\n",
              " role: \"user\",\n",
              " parts {\n",
              "   text: \"Japonesa\"\n",
              " }\n",
              " role: \"model\",\n",
              " parts {\n",
              "   text: \"E qual \\303\\251 a popula\\303\\247\\303\\243o dessa cidade?\"\n",
              " }\n",
              " role: \"user\",\n",
              " parts {\n",
              "   text: \"Cerca de 9 milh\\303\\265es de habitantes (2023)\"\n",
              " }\n",
              " role: \"model\"]"
            ]
          },
          "metadata": {},
          "execution_count": 23
        }
      ]
    },
    {
      "cell_type": "markdown",
      "source": [
        "Melhorando a visualização do histórico"
      ],
      "metadata": {
        "id": "Js1abm8nCKAW"
      }
    },
    {
      "cell_type": "code",
      "source": [
        "#Melhorando a visualização\n",
        "#Código disponível em https://ai.google.dev/tutorials/python_quickstart#import_packages\n",
        "import textwrap\n",
        "from IPython.display import display\n",
        "from IPython.display import Markdown\n",
        "\n",
        "def to_markdown(text):\n",
        "  text = text.replace('•', '  *')\n",
        "  return Markdown(textwrap.indent(text, '> ', predicate=lambda _: True))\n",
        "\n",
        "#Imprimindo o histórico\n",
        "for message in chat.history:\n",
        "  display(to_markdown(f'**{message.role}**: {message.parts[0].text}'))\n",
        "  print('-------------------------------------------')"
      ],
      "metadata": {
        "colab": {
          "base_uri": "https://localhost:8080/",
          "height": 527
        },
        "id": "NusRzLsZCO5a",
        "outputId": "5949b1f0-64c0-4348-de64-56dbdcc8588e"
      },
      "execution_count": null,
      "outputs": [
        {
          "output_type": "display_data",
          "data": {
            "text/plain": [
              "<IPython.core.display.Markdown object>"
            ],
            "text/markdown": "> **user**: Qual é a capital do Japão?"
          },
          "metadata": {}
        },
        {
          "output_type": "stream",
          "name": "stdout",
          "text": [
            "-------------------------------------------\n"
          ]
        },
        {
          "output_type": "display_data",
          "data": {
            "text/plain": [
              "<IPython.core.display.Markdown object>"
            ],
            "text/markdown": "> **model**: Tóquio"
          },
          "metadata": {}
        },
        {
          "output_type": "stream",
          "name": "stdout",
          "text": [
            "-------------------------------------------\n"
          ]
        },
        {
          "output_type": "display_data",
          "data": {
            "text/plain": [
              "<IPython.core.display.Markdown object>"
            ],
            "text/markdown": "> **user**: Qual a comida típica desse país?"
          },
          "metadata": {}
        },
        {
          "output_type": "stream",
          "name": "stdout",
          "text": [
            "-------------------------------------------\n"
          ]
        },
        {
          "output_type": "display_data",
          "data": {
            "text/plain": [
              "<IPython.core.display.Markdown object>"
            ],
            "text/markdown": "> **model**: Sushi"
          },
          "metadata": {}
        },
        {
          "output_type": "stream",
          "name": "stdout",
          "text": [
            "-------------------------------------------\n"
          ]
        },
        {
          "output_type": "display_data",
          "data": {
            "text/plain": [
              "<IPython.core.display.Markdown object>"
            ],
            "text/markdown": "> **user**: O meu primo nasceu nessa cidade. Qual a nacionalidade dele?"
          },
          "metadata": {}
        },
        {
          "output_type": "stream",
          "name": "stdout",
          "text": [
            "-------------------------------------------\n"
          ]
        },
        {
          "output_type": "display_data",
          "data": {
            "text/plain": [
              "<IPython.core.display.Markdown object>"
            ],
            "text/markdown": "> **model**: Japonesa"
          },
          "metadata": {}
        },
        {
          "output_type": "stream",
          "name": "stdout",
          "text": [
            "-------------------------------------------\n"
          ]
        },
        {
          "output_type": "display_data",
          "data": {
            "text/plain": [
              "<IPython.core.display.Markdown object>"
            ],
            "text/markdown": "> **user**: E qual é a população dessa cidade?"
          },
          "metadata": {}
        },
        {
          "output_type": "stream",
          "name": "stdout",
          "text": [
            "-------------------------------------------\n"
          ]
        },
        {
          "output_type": "display_data",
          "data": {
            "text/plain": [
              "<IPython.core.display.Markdown object>"
            ],
            "text/markdown": "> **model**: Cerca de 9 milhões de habitantes (2023)"
          },
          "metadata": {}
        },
        {
          "output_type": "stream",
          "name": "stdout",
          "text": [
            "-------------------------------------------\n"
          ]
        }
      ]
    }
  ]
}